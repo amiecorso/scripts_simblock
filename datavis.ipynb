{
 "cells": [
  {
   "cell_type": "code",
   "execution_count": null,
   "metadata": {},
   "outputs": [],
   "source": [
    "import pandas as pd\n",
    "import matplotlib.pyplot as plt\n",
    "import numpy as np\n",
    "import random\n",
    "import os\n",
    "\n",
    "DATA = \"./data/data.csv\"\n",
    "df = pd.read_csv(DATA)\n",
    "df = df.sort_values(['nodes', 'interval'])\n",
    "print(df)\n",
    "\n",
    "netsizes = list(df[\"nodes\"].unique())\n",
    "#repeats = df[\"Run Index\"].unique()\n",
    "repeats = [1]\n",
    "number_of_colors = len(netsizes)\n",
    "\n",
    "colors = [\"#\"+''.join([random.choice('0123456789ABCDEF') for j in range(6)]) for i in range(number_of_colors)]\n",
    "\n",
    "# plot Stale Block Rate\n",
    "fig, ax = plt.subplots()\n",
    "fig.suptitle(\"Stale Block Rate\")\n",
    "for size in netsizes:\n",
    "    color = colors[netsizes.index(size)]\n",
    "    for run in repeats:\n",
    "        subset = df[df['nodes'] == size]\n",
    "        subset.plot(x=\"interval\", y=\"SBR\", ax=ax, label=str(size), color=color)\n",
    "ax.set(xlabel=\"Block Interval (s)\", ylabel=\"Stale Block Rate\")\n",
    "\n",
    "# plot Throughput \n",
    "fig, ax = plt.subplots()\n",
    "fig.suptitle(\"Throughput\")\n",
    "for size in netsizes:\n",
    "    color = colors[netsizes.index(size)]\n",
    "    for run in repeats:\n",
    "        subset = df[df['nodes'] == size]\n",
    "        subset.plot(x=\"interval\", y=\"throughput\", ax=ax, label=str(size), color=color)\n",
    "ax.set(xlabel=\"Block Interval (s)\", ylabel=\"Throughput (bytes/sec)\")\n",
    "\n",
    "#fig = ax.get_figure()\n",
    "#fig.savefig(\"/Users/amiecorso/Desktop/exp1-\" + str(netsize) + \".pdf\")\n",
    "\n",
    "plt.show()\n"
   ]
  },
  {
   "cell_type": "code",
   "execution_count": null,
   "metadata": {},
   "outputs": [],
   "source": []
  },
  {
   "cell_type": "code",
   "execution_count": null,
   "metadata": {},
   "outputs": [],
   "source": []
  }
 ],
 "metadata": {
  "kernelspec": {
   "display_name": "Python 3",
   "language": "python",
   "name": "python3"
  },
  "language_info": {
   "codemirror_mode": {
    "name": "ipython",
    "version": 3
   },
   "file_extension": ".py",
   "mimetype": "text/x-python",
   "name": "python",
   "nbconvert_exporter": "python",
   "pygments_lexer": "ipython3",
   "version": "3.7.1"
  }
 },
 "nbformat": 4,
 "nbformat_minor": 2
}
